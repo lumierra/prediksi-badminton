{
 "cells": [
  {
   "cell_type": "markdown",
   "metadata": {},
   "source": [
    "[![N|BWF](http://bwfbadminton.com/wp-content/themes/fansite/img/banner-bw-tv.jpg)](http://bwfbadminton.com/)\n",
    "# Scrap Data BWF for Predict Indonesia Open 2018\n",
    "\n",
    "\n",
    "Collection data profile players and history match for prediction the winning of **Indonesia Open 2018**\n",
    "\n",
    "Using **BeautifulSoap** and **Requests** python module for collection data\n",
    "\n",
    "Source : **bwfworldtour.com**"
   ]
  },
  {
   "cell_type": "code",
   "execution_count": 45,
   "metadata": {},
   "outputs": [],
   "source": [
    "import requests\n",
    "import scrapy\n",
    "import io, json\n",
    "import mpu.io\n",
    "from bs4 import BeautifulSoup\n",
    "from tqdm import tqdm\n",
    "from pprint import pprint"
   ]
  },
  {
   "cell_type": "code",
   "execution_count": 24,
   "metadata": {},
   "outputs": [],
   "source": [
    "url = \"\"\"http://bwfworldtour.com/rankings/?id=9&cat_id=57&ryear=2018&week=26&page_size=1000&page_no=1\"\"\""
   ]
  },
  {
   "cell_type": "code",
   "execution_count": 25,
   "metadata": {},
   "outputs": [],
   "source": [
    "data = requests.get(url=url)"
   ]
  },
  {
   "cell_type": "code",
   "execution_count": 26,
   "metadata": {},
   "outputs": [],
   "source": [
    "html = data.text"
   ]
  },
  {
   "cell_type": "code",
   "execution_count": 27,
   "metadata": {},
   "outputs": [],
   "source": [
    "soup = BeautifulSoup(html, \"html5lib\")"
   ]
  },
  {
   "cell_type": "markdown",
   "metadata": {},
   "source": [
    "## Function Get Profile Players"
   ]
  },
  {
   "cell_type": "code",
   "execution_count": 28,
   "metadata": {},
   "outputs": [],
   "source": [
    "def get_profile(url=None):\n",
    "    html = requests.get(url=url).text\n",
    "    soup = BeautifulSoup(html, \"html5lib\")\n",
    "    ranking_world = int(soup.select_one(\".player-world-rank > .ranking-number\").text.strip())\n",
    "    ranking_number = int(soup.select_one(\".player-wtr-rank > .ranking-number\").text.strip())\n",
    "    player_wins = int(soup.select_one(\".player-wins > .large\").text.strip())\n",
    "    player_age = int(soup.select_one(\".player-age > .large\").text.strip())\n",
    "    player_dob = soup.select(\".player-age > span\")[2].text.strip()\n",
    "    player_handed = soup.select(\".player-handed > span\")[1].text.strip()\n",
    "    player_height = soup.select(\".player-stats > p > span\")[1].text.strip()\n",
    "    result = {\n",
    "        \"ranking_world\": ranking_world,\n",
    "        \"ranking_number\": ranking_number,\n",
    "        \"player_wins\": player_wins,\n",
    "        \"player_age\": player_age,\n",
    "        \"player_dob\": player_dob,\n",
    "        \"player_handed\": player_handed,\n",
    "        \"player_height\":player_height\n",
    "    }\n",
    "    return result"
   ]
  },
  {
   "cell_type": "markdown",
   "metadata": {},
   "source": [
    "## Function Get Head To Head Players"
   ]
  },
  {
   "cell_type": "code",
   "execution_count": 29,
   "metadata": {},
   "outputs": [],
   "source": [
    "def get_h2h(url=None):\n",
    "    html = requests.get(url=url).text\n",
    "    soup = BeautifulSoup(html, \"html5lib\")\n",
    "    \n",
    "    player1 = soup.select(\".info-player1 > .info-name > .name > a\")[0].text.strip()\n",
    "    player2 = soup.select(\".info-player2 > .info-name > .name > a\")[0].text.strip()\n",
    "    score_player1 = 0\n",
    "    score_player2 = 0        \n",
    "    \n",
    "    data = soup.find_all(\"div\", {\"class\":\"player-result-score\"})\n",
    "    for d in data:\n",
    "        if d.text.split(' ')[0].strip() == \"W\":\n",
    "            score_player1 += 1\n",
    "        else:\n",
    "            score_player2 += 1\n",
    "            \n",
    "    \n",
    "    jumlah_pertemuan = score_player1 + score_player2\n",
    "    test = soup.find_all(\"span\", {\"class\":\"score\"})\n",
    "    hasil_score = []\n",
    "    for i in test:\n",
    "        hasil_score.append(i.text.split(' '))\n",
    "\n",
    "    result = {\n",
    "        \"player1\": player1,\n",
    "        \"player2\": player2,\n",
    "        \"score_player1\": score_player1,\n",
    "        \"score_player2\": score_player2,\n",
    "        \"hasil_score\": hasil_score\n",
    "    }\n",
    "                  \n",
    "    return result"
   ]
  },
  {
   "cell_type": "markdown",
   "metadata": {},
   "source": [
    "## Function Get CareerSingles"
   ]
  },
  {
   "cell_type": "code",
   "execution_count": 30,
   "metadata": {},
   "outputs": [],
   "source": [
    "def get_careerSingles(url=None):\n",
    "    html = requests.get(url=url).text\n",
    "    soup = BeautifulSoup(html, \"html5lib\")\n",
    "        \n",
    "    banyak_bermain = soup.find_all(\"td\")[1].get_text()\n",
    "    menang = soup.find_all(\"td\")[2].get_text()\n",
    "    kalah = soup.find_all(\"td\")[3].get_text()\n",
    "    seri = soup.find_all(\"td\")[4].text.strip()\n",
    "    pendapatan = int(soup.find_all(\"td\")[5].text.strip('').replace(',',''))\n",
    "        \n",
    "    result = {\n",
    "        \"banyak_bermain\": banyak_bermain,\n",
    "        \"menang\": menang,\n",
    "        \"kalah\": kalah,\n",
    "        \"seri\": seri,\n",
    "        \"pendapatan\": pendapatan\n",
    "    }\n",
    "    \n",
    "    return result"
   ]
  },
  {
   "cell_type": "markdown",
   "metadata": {},
   "source": [
    "## Function Get CareerDoubles"
   ]
  },
  {
   "cell_type": "code",
   "execution_count": 31,
   "metadata": {},
   "outputs": [],
   "source": [
    "def get_careerDoubles(url=None):\n",
    "    html = requests.get(url=url).text\n",
    "    soup = BeautifulSoup(html, \"html5lib\")\n",
    "        \n",
    "    banyak_bermain = soup.find_all(\"td\")[13].get_text()\n",
    "    menang = soup.find_all(\"td\")[14].get_text()\n",
    "    kalah = soup.find_all(\"td\")[15].get_text()\n",
    "    seri = soup.find_all(\"td\")[16].text.strip()\n",
    "    pendapatan = int(soup.find_all(\"td\")[5].text.strip('').replace(',',''))\n",
    "    \n",
    "    result = {\n",
    "        \"banyak_bermain\": banyak_bermain,\n",
    "        \"menang\": menang,\n",
    "        \"kalah\": kalah,\n",
    "        \"seri\": seri,\n",
    "        \"pendapatan\": pendapatan\n",
    "    }\n",
    "    \n",
    "    return result"
   ]
  },
  {
   "cell_type": "code",
   "execution_count": 59,
   "metadata": {},
   "outputs": [
    {
     "name": "stderr",
     "output_type": "stream",
     "text": [
      "100%|██████████| 5/5 [00:12<00:00,  2.60s/it]\n"
     ]
    }
   ],
   "source": [
    "rankings = []\n",
    "res = soup.select(\".rankings-table tr\")[:5]\n",
    "\n",
    "id_players = []\n",
    "\n",
    "for i in tqdm(range(len(res))):\n",
    "    try:\n",
    "        x = res[i+1]\n",
    "        r = x.find_all(\"td\")\n",
    "        if len(r) > 1:\n",
    "            id_player = int(r[2].find(\"a\")[\"href\"].split(\"/\")[4])\n",
    "            url = r[2].find(\"a\")[\"href\"]\n",
    "            additional = get_profile(url)\n",
    "            url_h2h = url + (\"/head-to-head-analysis\")\n",
    "            headTohead = get_h2h(url_h2h)\n",
    "            \n",
    "            careerSingles = get_careerSingles(url)\n",
    "            careerDoubles = get_careerDoubles(url)\n",
    "            \n",
    "            id_players.append(id_player)\n",
    "            rank = {\n",
    "                \n",
    "#                 Profile Players\n",
    "                \"rank\": int(r[0].text.strip()),\n",
    "                \"country\": r[1].text.strip(),\n",
    "                \"name\": r[2].text.strip(),\n",
    "                \"id_player\": id_player,\n",
    "                \"url\": url,\n",
    "                \"change\": r[3].text.strip(),\n",
    "                \"win\": int(r[4].text.strip().split(\"/\")[0]),\n",
    "                \"lose\": int(r[4].text.strip().split(\"/\")[1]),\n",
    "                \"price\": int(r[5].text.strip().replace(\",\", \"\").replace(\"$\", \"\")),\n",
    "                \"point\": int(r[6].text.strip().replace(\",\", \"\")),\n",
    "                \n",
    "                \"ranking_world\": additional['ranking_world'],\n",
    "                \"ranking_world_tour\": additional['ranking_number'],\n",
    "                \"ranking_world\": additional['ranking_world'],\n",
    "                \"player_wins\": additional['player_wins'],\n",
    "                \"player_age\": additional['player_age'],\n",
    "                \"player_handed\": additional['player_handed'],\n",
    "                \"player_height\": additional['player_height'],\n",
    "                \n",
    "                \n",
    "#                 Career Single Players\n",
    "                \"banyak_bermain(CareerSingles)\":careerSingles['banyak_bermain'],\n",
    "                \"menang(CareerSingles)\":careerSingles['menang'],\n",
    "                \"kalah(CareerSingles)\":careerSingles['kalah'],\n",
    "                \"seri(CareerSingles)\":careerSingles['seri'],\n",
    "                \"pendapatan(CareerSingles)\":careerSingles['pendapatan'],\n",
    "                \n",
    "#                 Career Double Players\n",
    "                \"banyak_bermain(CareerDoubles)\":careerDoubles['banyak_bermain'],\n",
    "                \"menang(CareerDoubles)\":careerDoubles['menang'],\n",
    "                \"kalah(CareerDoubles)\":careerDoubles['kalah'],\n",
    "                \"seri(CareerDoubles)\":careerDoubles['seri'],\n",
    "                \"pendapatan(CareerDoubles)\":careerDoubles['pendapatan'],\n",
    "                \n",
    "                \n",
    "#                 History Head To head\n",
    "                \"player1\": headTohead['player1'],\n",
    "                \"player2\": headTohead['player2'],\n",
    "                \"score_player1\": headTohead['score_player1'],\n",
    "                \"score_player2\": headTohead['score_player2'],\n",
    "                \"hasil_score\": headTohead['hasil_score']\n",
    "            }\n",
    "            rankings.append(rank)\n",
    "    except:\n",
    "        pass\n",
    "    \n",
    "data = rankings\n",
    "with open('prediksi_badminton.json', 'w') as f:\n",
    "    json.dump(data, f)"
   ]
  },
  {
   "cell_type": "code",
   "execution_count": 210,
   "metadata": {},
   "outputs": [
    {
     "name": "stdout",
     "output_type": "stream",
     "text": [
      "{'player1': 'TommySUGIARTO', 'player2': 'TommySUGIARTO', 'score_player1': 0, 'score_player2': 0, 'hasil_score': []}\n",
      "\n",
      "{'player1': 'TommySUGIARTO', 'player2': 'LINDan', 'score_player1': 2, 'score_player2': 6, 'hasil_score': [['18-21,', '14-21'], ['17-21,', '17-21'], ['19-21,', '21-8,', '21-16'], ['0-2'], ['21-17,', '15-21,', '21-17'], ['10-21,', '11-21'], ['15-21,', '15-21'], ['12-21,', '19-21']]}\n",
      "\n"
     ]
    }
   ],
   "source": [
    "for p in id_players:\n",
    "    url = \"\"\"http://bwfworldtour.com/player/14587/tommy-sugiarto/head-to-head-analysis/?event=single&team2_player1={players}\"\"\".format(players=p)\n",
    "    result = get_h2h(url)\n",
    "    print(result)\n",
    "    print()"
   ]
  },
  {
   "cell_type": "markdown",
   "metadata": {},
   "source": [
    "## Result Players Ranking"
   ]
  },
  {
   "cell_type": "code",
   "execution_count": null,
   "metadata": {},
   "outputs": [],
   "source": [
    "rankings"
   ]
  },
  {
   "cell_type": "code",
   "execution_count": null,
   "metadata": {},
   "outputs": [],
   "source": []
  },
  {
   "cell_type": "code",
   "execution_count": null,
   "metadata": {},
   "outputs": [],
   "source": []
  }
 ],
 "metadata": {
  "kernelspec": {
   "display_name": "Python 3",
   "language": "python",
   "name": "python3"
  },
  "language_info": {
   "codemirror_mode": {
    "name": "ipython",
    "version": 3
   },
   "file_extension": ".py",
   "mimetype": "text/x-python",
   "name": "python",
   "nbconvert_exporter": "python",
   "pygments_lexer": "ipython3",
   "version": "3.6.6"
  }
 },
 "nbformat": 4,
 "nbformat_minor": 2
}
