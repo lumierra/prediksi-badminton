{
 "cells": [
  {
   "cell_type": "markdown",
   "metadata": {},
   "source": [
    "[![N|BWF](http://bwfbadminton.com/wp-content/themes/fansite/img/banner-bw-tv.jpg)](http://bwfbadminton.com/)\n",
    "# Scrap Data BWF for Predict Indonesia Open 2018\n",
    "\n",
    "\n",
    "Collection data profile players and history match for prediction the winning of **Indonesia Open 2018**\n",
    "\n",
    "Using **BeautifulSoap** and **Requests** python module for collection data\n",
    "\n",
    "Source : **bwfworldtour.com**"
   ]
  },
  {
   "cell_type": "code",
   "execution_count": 1,
   "metadata": {
    "collapsed": true
   },
   "outputs": [],
   "source": [
    "import requests\n",
    "from bs4 import BeautifulSoup\n",
    "from tqdm import tqdm"
   ]
  },
  {
   "cell_type": "code",
   "execution_count": 2,
   "metadata": {
    "collapsed": true
   },
   "outputs": [],
   "source": [
    "url = \"\"\"http://bwfworldtour.com/rankings/?id=9&cat_id=57&ryear=2018&week=26&page_size=1000&page_no=1\"\"\""
   ]
  },
  {
   "cell_type": "code",
   "execution_count": 3,
   "metadata": {
    "collapsed": true
   },
   "outputs": [],
   "source": [
    "data = requests.get(url=url)"
   ]
  },
  {
   "cell_type": "code",
   "execution_count": 4,
   "metadata": {
    "collapsed": true
   },
   "outputs": [],
   "source": [
    "html = data.text"
   ]
  },
  {
   "cell_type": "code",
   "execution_count": 5,
   "metadata": {
    "collapsed": true
   },
   "outputs": [],
   "source": [
    "soup = BeautifulSoup(html, \"html5lib\")"
   ]
  },
  {
   "cell_type": "markdown",
   "metadata": {},
   "source": [
    "## Function Get Profile Players"
   ]
  },
  {
   "cell_type": "code",
   "execution_count": 6,
   "metadata": {
    "collapsed": true
   },
   "outputs": [],
   "source": [
    "def get_profile(url=None):\n",
    "    html = requests.get(url=url).text\n",
    "    soup = BeautifulSoup(html, \"html5lib\")\n",
    "    ranking_number = int(soup.select_one(\".player-wtr-rank > .ranking-number\").text.strip())\n",
    "    player_wins = int(soup.select_one(\".player-wins > .large\").text.strip())\n",
    "    player_age = int(soup.select_one(\".player-age > .large\").text.strip())\n",
    "    player_handed = soup.select(\".player-handed > span\")[1].text.strip()\n",
    "    result = {\n",
    "        \"ranking_number\": ranking_number,\n",
    "        \"player_wins\": player_wins,\n",
    "        \"player_age\": player_age,\n",
    "        \"player_handed\": player_handed\n",
    "    }\n",
    "    return result"
   ]
  },
  {
   "cell_type": "code",
   "execution_count": 7,
   "metadata": {},
   "outputs": [
    {
     "name": "stderr",
     "output_type": "stream",
     "text": [
      "100%|██████████| 516/516 [03:22<00:00,  2.55it/s]\n"
     ]
    }
   ],
   "source": [
    "rankings = []\n",
    "res = soup.select(\".rankings-table tr\")[1:10]\n",
    "\n",
    "for i in tqdm(range(len(res))):\n",
    "    try:\n",
    "        x = res[i+1]\n",
    "        r = x.find_all(\"td\")\n",
    "        if len(r) > 1:\n",
    "            id_player = int(r[2].find(\"a\")[\"href\"].split(\"/\")[4])\n",
    "            url = r[2].find(\"a\")[\"href\"]\n",
    "            additional = get_profile(url)\n",
    "            rank = {\n",
    "                \"rank\": int(r[0].text.strip()),\n",
    "                \"country\": r[1].text.strip(),\n",
    "                \"name\": r[2].text.strip(),\n",
    "                \"id_player\": id_player,\n",
    "                \"url\": url,\n",
    "                \"change\": r[3].text.strip(),\n",
    "                \"win\": int(r[4].text.strip().split(\"/\")[0]),\n",
    "                \"lose\": int(r[4].text.strip().split(\"/\")[1]),\n",
    "                \"price\": int(r[5].text.strip().replace(\",\", \"\").replace(\"$\", \"\")),\n",
    "                \"point\": int(r[6].text.strip().replace(\",\", \"\")),\n",
    "                \"ranking_number\": additional['ranking_number'],\n",
    "                \"player_wins\": additional['player_wins'],\n",
    "                \"player_age\": additional['player_age'],\n",
    "                \"player_handed\": additional['player_handed']\n",
    "            }\n",
    "            rankings.append(rank)\n",
    "    except:\n",
    "        pass"
   ]
  },
  {
   "cell_type": "markdown",
   "metadata": {},
   "source": [
    "## Result Players Ranking"
   ]
  },
  {
   "cell_type": "code",
   "execution_count": 8,
   "metadata": {},
   "outputs": [
    {
     "data": {
      "text/plain": [
       "[{'change': '0',\n",
       "  'country': 'CHN',\n",
       "  'id_player': 50906,\n",
       "  'lose': 97,\n",
       "  'name': 'LIN Dan',\n",
       "  'player_age': 34,\n",
       "  'player_handed': 'Left Handed',\n",
       "  'player_wins': 630,\n",
       "  'point': 27160,\n",
       "  'price': 951905,\n",
       "  'rank': 2,\n",
       "  'ranking_number': 2,\n",
       "  'url': 'http://bwfworldtour.com/player/50906/lin-dan',\n",
       "  'win': 630},\n",
       " {'change': '0',\n",
       "  'country': 'TPE',\n",
       "  'id_player': 34810,\n",
       "  'lose': 164,\n",
       "  'name': 'CHOU Tien Chen',\n",
       "  'player_age': 28,\n",
       "  'player_handed': 'Right Handed',\n",
       "  'player_wins': 299,\n",
       "  'point': 26440,\n",
       "  'price': 286044,\n",
       "  'rank': 3,\n",
       "  'ranking_number': 3,\n",
       "  'url': 'http://bwfworldtour.com/player/34810/chou-tien-chen',\n",
       "  'win': 275}]"
      ]
     },
     "execution_count": 8,
     "metadata": {},
     "output_type": "execute_result"
    }
   ],
   "source": [
    "rankings[:2]"
   ]
  },
  {
   "cell_type": "code",
   "execution_count": null,
   "metadata": {
    "collapsed": true
   },
   "outputs": [],
   "source": []
  }
 ],
 "metadata": {
  "kernelspec": {
   "display_name": "py3",
   "language": "python",
   "name": "py3"
  },
  "language_info": {
   "codemirror_mode": {
    "name": "ipython",
    "version": 3
   },
   "file_extension": ".py",
   "mimetype": "text/x-python",
   "name": "python",
   "nbconvert_exporter": "python",
   "pygments_lexer": "ipython3",
   "version": "3.6.2"
  }
 },
 "nbformat": 4,
 "nbformat_minor": 2
}
