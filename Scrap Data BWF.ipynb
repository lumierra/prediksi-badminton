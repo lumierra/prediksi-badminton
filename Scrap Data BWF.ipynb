{
 "cells": [
  {
   "cell_type": "markdown",
   "metadata": {},
   "source": [
    "[![N|BWF](http://bwfbadminton.com/wp-content/themes/fansite/img/banner-bw-tv.jpg)](http://bwfbadminton.com/)\n",
    "# Scrap Data BWF for Predict Indonesia Open 2018\n",
    "\n",
    "\n",
    "Collection data profile players and history match for prediction the winning of **Indonesia Open 2018**\n",
    "\n",
    "Using **BeautifulSoap** and **Requests** python module for collection data\n",
    "\n",
    "Source : **bwfworldtour.com**"
   ]
  },
  {
   "cell_type": "code",
   "execution_count": 9,
   "metadata": {},
   "outputs": [],
   "source": [
    "import requests\n",
    "from bs4 import BeautifulSoup\n",
    "from tqdm import tqdm"
   ]
  },
  {
   "cell_type": "code",
   "execution_count": 10,
   "metadata": {},
   "outputs": [],
   "source": [
    "url = \"\"\"http://bwfworldtour.com/rankings/?id=9&cat_id=57&ryear=2018&week=26&page_size=1000&page_no=1\"\"\""
   ]
  },
  {
   "cell_type": "code",
   "execution_count": 11,
   "metadata": {},
   "outputs": [],
   "source": [
    "data = requests.get(url=url)"
   ]
  },
  {
   "cell_type": "code",
   "execution_count": 12,
   "metadata": {},
   "outputs": [],
   "source": [
    "html = data.text"
   ]
  },
  {
   "cell_type": "code",
   "execution_count": 13,
   "metadata": {},
   "outputs": [],
   "source": [
    "soup = BeautifulSoup(html, \"html5lib\")"
   ]
  },
  {
   "cell_type": "markdown",
   "metadata": {},
   "source": [
    "## Function Get Profile Players"
   ]
  },
  {
   "cell_type": "code",
   "execution_count": 14,
   "metadata": {},
   "outputs": [],
   "source": [
    "def get_profile(url=None):\n",
    "    html = requests.get(url=url).text\n",
    "    soup = BeautifulSoup(html, \"html5lib\")\n",
    "    ranking_number = int(soup.select_one(\".player-wtr-rank > .ranking-number\").text.strip())\n",
    "    player_wins = int(soup.select_one(\".player-wins > .large\").text.strip())\n",
    "    player_age = int(soup.select_one(\".player-age > .large\").text.strip())\n",
    "    player_handed = soup.select(\".player-handed > span\")[1].text.strip()\n",
    "    result = {\n",
    "        \"ranking_number\": ranking_number,\n",
    "        \"player_wins\": player_wins,\n",
    "        \"player_age\": player_age,\n",
    "        \"player_handed\": player_handed\n",
    "    }\n",
    "    return result"
   ]
  },
  {
   "cell_type": "code",
   "execution_count": 18,
   "metadata": {},
   "outputs": [
    {
     "name": "stderr",
     "output_type": "stream",
     "text": [
      "100%|██████████| 9/9 [00:04<00:00,  2.23it/s]\n"
     ]
    }
   ],
   "source": [
    "rankings = []\n",
    "res = soup.select(\".rankings-table tr\")[1:10]\n",
    "\n",
    "for i in tqdm(range(len(res))):\n",
    "    try:\n",
    "        x = res[i+1]\n",
    "        r = x.find_all(\"td\")\n",
    "        if len(r) > 1:\n",
    "            id_player = int(r[2].find(\"a\")[\"href\"].split(\"/\")[4])\n",
    "            url = r[2].find(\"a\")[\"href\"]\n",
    "            additional = get_profile(url)\n",
    "            rank = {\n",
    "                \"rank\": int(r[0].text.strip()),\n",
    "                \"country\": r[1].text.strip(),\n",
    "                \"name\": r[2].text.strip(),\n",
    "                \"id_player\": id_player,\n",
    "                \"url\": url,\n",
    "                \"change\": r[3].text.strip(),\n",
    "                \"win\": int(r[4].text.strip().split(\"/\")[0]),\n",
    "                \"lose\": int(r[4].text.strip().split(\"/\")[1]),\n",
    "                \"price\": int(r[5].text.strip().replace(\",\", \"\").replace(\"$\", \"\")),\n",
    "                \"point\": int(r[6].text.strip().replace(\",\", \"\")),\n",
    "                \"ranking_number\": additional['ranking_number'],\n",
    "                \"player_wins\": additional['player_wins'],\n",
    "                \"player_age\": additional['player_age'],\n",
    "                \"player_handed\": additional['player_handed']\n",
    "            }\n",
    "            rankings.append(rank)\n",
    "    except:\n",
    "        pass"
   ]
  },
  {
   "cell_type": "markdown",
   "metadata": {},
   "source": [
    "## Result Players Ranking"
   ]
  },
  {
   "cell_type": "code",
   "execution_count": 17,
   "metadata": {},
   "outputs": [
    {
     "data": {
      "text/plain": [
       "[{'rank': 2,\n",
       "  'country': 'CHN',\n",
       "  'name': 'LIN Dan',\n",
       "  'id_player': 50906,\n",
       "  'url': 'http://bwfworldtour.com/player/50906/lin-dan',\n",
       "  'change': '0',\n",
       "  'win': 630,\n",
       "  'lose': 97,\n",
       "  'price': 951905,\n",
       "  'point': 27160,\n",
       "  'ranking_number': 2,\n",
       "  'player_wins': 630,\n",
       "  'player_age': 34,\n",
       "  'player_handed': 'Left Handed'},\n",
       " {'rank': 3,\n",
       "  'country': 'TPE',\n",
       "  'name': 'CHOU Tien Chen',\n",
       "  'id_player': 34810,\n",
       "  'url': 'http://bwfworldtour.com/player/34810/chou-tien-chen',\n",
       "  'change': '0',\n",
       "  'win': 275,\n",
       "  'lose': 164,\n",
       "  'price': 286044,\n",
       "  'point': 26440,\n",
       "  'ranking_number': 3,\n",
       "  'player_wins': 299,\n",
       "  'player_age': 28,\n",
       "  'player_handed': 'Right Handed'},\n",
       " {'rank': 4,\n",
       "  'country': 'CHN',\n",
       "  'name': 'SHI Yuqi',\n",
       "  'id_player': 57945,\n",
       "  'url': 'http://bwfworldtour.com/player/57945/shi-yuqi',\n",
       "  'change': '0',\n",
       "  'win': 145,\n",
       "  'lose': 49,\n",
       "  'price': 236143,\n",
       "  'point': 26100,\n",
       "  'ranking_number': 4,\n",
       "  'player_wins': 145,\n",
       "  'player_age': 22,\n",
       "  'player_handed': 'N/A'}]"
      ]
     },
     "execution_count": 17,
     "metadata": {},
     "output_type": "execute_result"
    }
   ],
   "source": [
    "rankings[:3]"
   ]
  },
  {
   "cell_type": "code",
   "execution_count": null,
   "metadata": {
    "collapsed": true
   },
   "outputs": [],
   "source": []
  }
 ],
 "metadata": {
  "kernelspec": {
   "display_name": "Python 3",
   "language": "python",
   "name": "python3"
  },
  "language_info": {
   "codemirror_mode": {
    "name": "ipython",
    "version": 3
   },
   "file_extension": ".py",
   "mimetype": "text/x-python",
   "name": "python",
   "nbconvert_exporter": "python",
   "pygments_lexer": "ipython3",
   "version": "3.6.6"
  }
 },
 "nbformat": 4,
 "nbformat_minor": 2
}
